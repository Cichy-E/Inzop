{
  "nbformat": 4,
  "nbformat_minor": 0,
  "metadata": {
    "colab": {
      "provenance": []
    },
    "kernelspec": {
      "name": "python3",
      "display_name": "Python 3"
    },
    "language_info": {
      "name": "python"
    }
  },
  "cells": [
    {
      "cell_type": "code",
      "execution_count": null,
      "metadata": {
        "colab": {
          "base_uri": "https://localhost:8080/"
        },
        "id": "BW8M3FfDd9vR",
        "outputId": "b550326d-3c04-447f-d8c8-b7cc96c72c4d"
      },
      "outputs": [
        {
          "output_type": "execute_result",
          "data": {
            "text/plain": [
              "0"
            ]
          },
          "metadata": {},
          "execution_count": 5
        }
      ],
      "source": [
        "# Funkcja weryfikująca numer PESEL\n",
        "\n",
        "def weryfikuj_pesel(pesel: str) -> int:\n",
        "    wagi = [1, 3, 7, 9, 1, 3, 7, 9, 1, 3]\n",
        "    suma = sum(int(pesel[i]) * wagi[i] for i in range(10))\n",
        "    cyfra_kontrolna = (10 - (suma % 10)) % 10\n",
        "    if cyfra_kontrolna == int(pesel[-1]):\n",
        "        return 1\n",
        "    else:\n",
        "        return 0\n",
        "\n",
        "\n",
        "przyklad_pesel = \"02240404578\"\n",
        "wynik = weryfikuj_pesel(przyklad_pesel)\n",
        "wynik\n"
      ]
    },
    {
      "cell_type": "code",
      "source": [
        "# Funkcja weryfikująca poprawność nawiasów\n",
        "def poprawne_nawiasy(tekst: str) -> bool:\n",
        "    licznik = 0\n",
        "\n",
        "    for znak in tekst:\n",
        "        if znak == '(':\n",
        "            licznik += 1\n",
        "        elif znak == ')':\n",
        "            licznik -= 1\n",
        "            if licznik < 0:\n",
        "                return False\n",
        "\n",
        "    return licznik == 0\n",
        "\n",
        "\n",
        "przyklady_true = [\n",
        "    \"( if ( I ? x ) buy (/ 7 x ))\",\n",
        "    \"I told ( that its yes ( just ) spring ). (42)\"\n",
        "]\n",
        "\n",
        "przyklady_false = [\n",
        "    \":-)\",\n",
        "    \"Czesc (chyba coś mi nie poszło))\",\n",
        "    \"())(\"\n",
        "]\n",
        "\n",
        "wyniki_true = [poprawne_nawiasy(przyklad) for przyklad in przyklady_true]\n",
        "wyniki_false = [poprawne_nawiasy(przyklad) for przyklad in przyklady_false]\n",
        "\n",
        "wyniki_true, wyniki_false\n"
      ],
      "metadata": {
        "colab": {
          "base_uri": "https://localhost:8080/"
        },
        "id": "XOv2i7kfehD0",
        "outputId": "dbfca48d-c1bc-4d8b-ff56-508a5e2a613e"
      },
      "execution_count": null,
      "outputs": [
        {
          "output_type": "execute_result",
          "data": {
            "text/plain": [
              "([True, True], [False, False, False])"
            ]
          },
          "metadata": {},
          "execution_count": 4
        }
      ]
    }
  ]
}